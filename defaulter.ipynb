{
 "cells": [
  {
   "cell_type": "code",
   "execution_count": null,
   "id": "c1b3390e",
   "metadata": {},
   "outputs": [
    {
     "name": "stdout",
     "output_type": "stream",
     "text": [
      " * Serving Flask app '__main__'\n",
      " * Debug mode: off\n"
     ]
    },
    {
     "name": "stderr",
     "output_type": "stream",
     "text": [
      "C:\\Users\\Kiran\\anaconda3\\lib\\site-packages\\sklearn\\base.py:299: UserWarning: Trying to unpickle estimator SVC from version 0.24.2 when using version 1.2.1. This might lead to breaking code or invalid results. Use at your own risk. For more info please refer to:\n",
      "https://scikit-learn.org/stable/model_persistence.html#security-maintainability-limitations\n",
      "  warnings.warn(\n",
      "C:\\Users\\Kiran\\anaconda3\\lib\\site-packages\\sklearn\\base.py:299: UserWarning: Trying to unpickle estimator StandardScaler from version 0.24.2 when using version 1.2.1. This might lead to breaking code or invalid results. Use at your own risk. For more info please refer to:\n",
      "https://scikit-learn.org/stable/model_persistence.html#security-maintainability-limitations\n",
      "  warnings.warn(\n",
      "WARNING: This is a development server. Do not use it in a production deployment. Use a production WSGI server instead.\n",
      " * Running on http://127.0.0.1:5000\n",
      "Press CTRL+C to quit\n"
     ]
    }
   ],
   "source": [
    "\"\"\"\n",
    "Application that predicts if a customer will default in their credit card payments\n",
    "\n",
    "\"\"\"\n",
    "\n",
    "\n",
    "import numpy as np\n",
    "from flask import Flask, request, render_template\n",
    "import pickle\n",
    "\n",
    "#Create an app object using the Flask class. \n",
    "app = Flask(__name__)\n",
    "\n",
    "#Load the trained model. (Pickle file)\n",
    "\n",
    "pickle_in = open('svc_model.pkl',\"rb\")\n",
    "model = pickle.load(pickle_in)\n",
    "scaler=pickle.load(open('scaling.pkl','rb'))\n",
    "\n",
    "#Define the route to be home. \n",
    "#The decorator below links the relative route of the URL to the function it is decorating.\n",
    "#Here, home function is with '/', our root directory. \n",
    "#Running the app sends us to index.html.\n",
    "#Note that render_template means it looks for the file in the templates folder. \n",
    "\n",
    "#use the route() decorator to tell Flask what URL should trigger our function.\n",
    "@app.route('/')\n",
    "def home():\n",
    "    return render_template('index.html')\n",
    "\n",
    "#You can use the methods argument of the route() decorator to handle different HTTP methods.\n",
    "#GET: A GET message is send, and the server returns data\n",
    "#POST: Used to send HTML form data to the server.\n",
    "#Add Post method to the decorator to allow for form submission. \n",
    "#Redirect to /predict page with the output\n",
    "@app.route('/predict',methods=['POST'])\n",
    "def predict():\n",
    "\n",
    "    int_features = [int(x) for x in request.form.values()]\n",
    "    pre_final_features = [np.array(int_features)]\n",
    "    final_features = scaler.transform(pre_final_features)\n",
    "    prediction = model.predict(final_features)   \n",
    "    if (prediction[0] == 1):\n",
    "        output = \"Defaulter\"\n",
    "    else:\n",
    "        output = \"Not a defaulter\"\n",
    "        \n",
    "\n",
    "    return render_template('index.html', prediction_text='This customer is  {}'.format(output))\n",
    "\n",
    "\n",
    "#When the Python interpreter reads a source file, it first defines a few special variables. \n",
    "#For now, we care about the __name__ variable.\n",
    "#If we execute our code in the main program, like in our case here, it assigns\n",
    "# __main__ as the name (__name__). \n",
    "#So if we want to run our code right here, we can check if __name__ == __main__\n",
    "#if so, execute it here. \n",
    "#If we import this file (module) to another file then __name__ == app (which is the name of this python file).\n",
    "\n",
    "if __name__ == \"__main__\":\n",
    "    app.run()"
   ]
  },
  {
   "cell_type": "code",
   "execution_count": null,
   "id": "c60ca99f",
   "metadata": {},
   "outputs": [],
   "source": []
  }
 ],
 "metadata": {
  "kernelspec": {
   "display_name": "Python 3 (ipykernel)",
   "language": "python",
   "name": "python3"
  },
  "language_info": {
   "codemirror_mode": {
    "name": "ipython",
    "version": 3
   },
   "file_extension": ".py",
   "mimetype": "text/x-python",
   "name": "python",
   "nbconvert_exporter": "python",
   "pygments_lexer": "ipython3",
   "version": "3.10.9"
  }
 },
 "nbformat": 4,
 "nbformat_minor": 5
}
